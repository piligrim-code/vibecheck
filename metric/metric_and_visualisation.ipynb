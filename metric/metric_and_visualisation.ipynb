{
 "cells": [
  {
   "cell_type": "code",
   "execution_count": 1,
   "id": "4696e347-b49e-40b0-a163-090c0254a2b6",
   "metadata": {},
   "outputs": [],
   "source": [
    "json_dicts = [\n",
    "    {\"time\": \"2024-08-16T13:00:00\", \"user\": \"Alice\", \"message\": \"Good morning!\", \"sentiment\": 1},\n",
    "    {\"time\": \"2024-08-16T13:00:06\", \"user\": \"Bob\", \"message\": \"This isn't working as planned.\", \"sentiment\": -0.6},\n",
    "    {\"time\": \"2024-08-16T13:00:12\", \"user\": \"Charlie\", \"message\": \"Thanks for the information.\", \"sentiment\": 0.5},\n",
    "    {\"time\": \"2024-08-16T13:00:18\", \"user\": \"Dave\", \"message\": \"I'm really upset with this.\", \"sentiment\": -1},\n",
    "    {\"time\": \"2024-08-16T13:00:24\", \"user\": \"Eve\", \"message\": \"Great job on the project!\", \"sentiment\": 1},\n",
    "    {\"time\": \"2024-08-16T13:00:30\", \"user\": \"Alice\", \"message\": \"Let's keep the momentum going.\", \"sentiment\": 0.8},\n",
    "    {\"time\": \"2024-08-16T13:00:36\", \"user\": \"Bob\", \"message\": \"This is so confusing.\", \"sentiment\": -0.7},\n",
    "    {\"time\": \"2024-08-16T13:00:42\", \"user\": \"Charlie\", \"message\": \"Do you need any help?\", \"sentiment\": 0.6},\n",
    "    {\"time\": \"2024-08-16T13:00:48\", \"user\": \"Dave\", \"message\": \"I'm tired of this situation.\", \"sentiment\": -0.9},\n",
    "    {\"time\": \"2024-08-16T13:00:54\", \"user\": \"Eve\", \"message\": \"The progress looks promising.\", \"sentiment\": 0.7},\n",
    "    {\"time\": \"2024-08-16T13:01:00\", \"user\": \"Alice\", \"message\": \"Everything is going smoothly.\", \"sentiment\": 0.9},\n",
    "    {\"time\": \"2024-08-16T13:01:06\", \"user\": \"Bob\", \"message\": \"This is frustrating.\", \"sentiment\": -0.8},\n",
    "    {\"time\": \"2024-08-16T13:01:12\", \"user\": \"Charlie\", \"message\": \"I appreciate your input.\", \"sentiment\": 0.5},\n",
    "    {\"time\": \"2024-08-16T13:01:18\", \"user\": \"Dave\", \"message\": \"I'm really struggling.\", \"sentiment\": -0.9},\n",
    "    {\"time\": \"2024-08-16T13:01:24\", \"user\": \"Eve\", \"message\": \"This is excellent work!\", \"sentiment\": 1},\n",
    "    {\"time\": \"2024-08-16T13:01:30\", \"user\": \"Alice\", \"message\": \"Let's keep up the good work.\", \"sentiment\": 0.8},\n",
    "    {\"time\": \"2024-08-16T13:01:36\", \"user\": \"Bob\", \"message\": \"This is making no sense.\", \"sentiment\": -0.7},\n",
    "    {\"time\": \"2024-08-16T13:01:42\", \"user\": \"Charlie\", \"message\": \"Thanks for the quick response.\", \"sentiment\": 0.7},\n",
    "    {\"time\": \"2024-08-16T13:01:48\", \"user\": \"Dave\", \"message\": \"This is driving me crazy.\", \"sentiment\": -1},\n",
    "    {\"time\": \"2024-08-16T13:01:54\", \"user\": \"Eve\", \"message\": \"I'm happy with the results.\", \"sentiment\": 0.9},\n",
    "    {\"time\": \"2024-08-16T13:02:00\", \"user\": \"Alice\", \"message\": \"I'm glad to see this progress.\", \"sentiment\": 0.8},\n",
    "    {\"time\": \"2024-08-16T13:02:06\", \"user\": \"Bob\", \"message\": \"Why is this so difficult?\", \"sentiment\": -0.8},\n",
    "    {\"time\": \"2024-08-16T13:02:12\", \"user\": \"Charlie\", \"message\": \"I appreciate the effort.\", \"sentiment\": 0.6},\n",
    "    {\"time\": \"2024-08-16T13:02:18\", \"user\": \"Dave\", \"message\": \"This is too much.\", \"sentiment\": -0.9},\n",
    "    {\"time\": \"2024-08-16T13:02:24\", \"user\": \"Eve\", \"message\": \"Great work, everyone!\", \"sentiment\": 1},\n",
    "    {\"time\": \"2024-08-16T13:02:30\", \"user\": \"Alice\", \"message\": \"Keep pushing forward.\", \"sentiment\": 0.7},\n",
    "    {\"time\": \"2024-08-16T13:02:36\", \"user\": \"Bob\", \"message\": \"This is getting worse.\", \"sentiment\": -0.7},\n",
    "    {\"time\": \"2024-08-16T13:02:42\", \"user\": \"Charlie\", \"message\": \"Thanks for your support.\", \"sentiment\": 0.6},\n",
    "    {\"time\": \"2024-08-16T13:02:48\", \"user\": \"Dave\", \"message\": \"I'm at my limit.\", \"sentiment\": -1},\n",
    "    {\"time\": \"2024-08-16T13:02:54\", \"user\": \"Eve\", \"message\": \"This is going to be great!\", \"sentiment\": 0.9},\n",
    "    {\"time\": \"2024-08-16T13:03:00\", \"user\": \"Alice\", \"message\": \"You're doing a fantastic job.\", \"sentiment\": 1},\n",
    "    {\"time\": \"2024-08-16T13:03:06\", \"user\": \"Bob\", \"message\": \"I'm really annoyed.\", \"sentiment\": -0.8},\n",
    "    {\"time\": \"2024-08-16T13:03:12\", \"user\": \"Charlie\", \"message\": \"I appreciate your help.\", \"sentiment\": 0.6},\n",
    "    {\"time\": \"2024-08-16T13:03:18\", \"user\": \"Dave\", \"message\": \"This is so frustrating.\", \"sentiment\": -1},\n",
    "    {\"time\": \"2024-08-16T13:03:24\", \"user\": \"Eve\", \"message\": \"I'm really pleased with this.\", \"sentiment\": 0.8},\n",
    "    {\"time\": \"2024-08-16T13:03:30\", \"user\": \"Alice\", \"message\": \"Keep up the good work.\", \"sentiment\": 0.8},\n",
    "    {\"time\": \"2024-08-16T13:03:36\", \"user\": \"Bob\", \"message\": \"This is just awful.\", \"sentiment\": -0.9},\n",
    "    {\"time\": \"2024-08-16T13:03:42\", \"user\": \"Charlie\", \"message\": \"Thanks for the advice.\", \"sentiment\": 0.5},\n",
    "    {\"time\": \"2024-08-16T13:03:48\", \"user\": \"Dave\", \"message\": \"I'm really struggling here.\", \"sentiment\": -0.9},\n",
    "    {\"time\": \"2024-08-16T13:03:54\", \"user\": \"Eve\", \"message\": \"This is going well!\", \"sentiment\": 0.7},\n",
    "    {\"time\": \"2024-08-16T13:04:00\", \"user\": \"Alice\", \"message\": \"Everything's on track.\", \"sentiment\": 0.8},\n",
    "    {\"time\": \"2024-08-16T13:04:06\", \"user\": \"Bob\", \"message\": \"I'm so frustrated.\", \"sentiment\": -1},\n",
    "    {\"time\": \"2024-08-16T13:04:12\", \"user\": \"Charlie\", \"message\": \"I appreciate your efforts.\", \"sentiment\": 0.6},\n",
    "    {\"time\": \"2024-08-16T13:04:18\", \"user\": \"Dave\", \"message\": \"This is too much to handle.\", \"sentiment\": -0.8},\n",
    "    {\"time\": \"2024-08-16T13:04:24\", \"user\": \"Eve\", \"message\": \"Great progress so far!\", \"sentiment\": 0.9},\n",
    "    {\"time\": \"2024-08-16T13:04:30\", \"user\": \"Alice\", \"message\": \"I'm really excited about this.\", \"sentiment\": 1},\n",
    "    {\"time\": \"2024-08-16T13:04:36\", \"user\": \"Bob\", \"message\": \"This isn't going well.\", \"sentiment\": -0.8},\n",
    "    {\"time\": \"2024-08-16T13:04:42\", \"user\": \"Charlie\", \"message\": \"Thanks for the heads up.\", \"sentiment\": 0.5},\n",
    "    {\"time\": \"2024-08-16T13:04:48\", \"user\": \"Dave\", \"message\": \"I'm really frustrated.\", \"sentiment\": -1},\n",
    "    {\"time\": \"2024-08-16T13:04:54\", \"user\": \"Eve\", \"message\": \"This is looking good.\", \"sentiment\": 0.8},\n",
    "    {\"time\": \"2024-08-16T13:05:00\", \"user\": \"Alice\", \"message\": \"Great start to the day!\", \"sentiment\": 0.9},\n",
    "    {\"time\": \"2024-08-16T13:05:06\", \"user\": \"Bob\", \"message\": \"This is just not working.\", \"sentiment\": -0.8},\n",
    "    {\"time\": \"2024-08-16T13:05:12\", \"user\": \"Charlie\", \"message\": \"Thanks for the update.\", \"sentiment\": 0.5},\n",
    "    {\"time\": \"2024-08-16T13:05:18\", \"user\": \"Dave\", \"message\": \"I'm really annoyed right now.\", \"sentiment\": -0.9},\n",
    "    {\"time\": \"2024-08-16T13:05:24\", \"user\": \"Eve\", \"message\": \"Everything is going well!\", \"sentiment\": 1},\n",
    "    {\"time\": \"2024-08-16T13:05:30\", \"user\": \"Alice\", \"message\": \"Let's keep up the momentum.\", \"sentiment\": 0.8},\n",
    "    {\"time\": \"2024-08-16T13:05:36\", \"user\": \"Bob\", \"message\": \"This is so frustrating.\", \"sentiment\": -0.8},\n",
    "    {\"time\": \"2024-08-16T13:05:42\", \"user\": \"Charlie\", \"message\": \"Appreciate the quick feedback.\", \"sentiment\": 0.6},\n",
    "    {\"time\": \"2024-08-16T13:05:48\", \"user\": \"Dave\", \"message\": \"This is really stressing me out.\", \"sentiment\": -1},\n",
    "    {\"time\": \"2024-08-16T13:05:54\", \"user\": \"Eve\", \"message\": \"You're all doing great!\", \"sentiment\": 1},\n",
    "    {\"time\": \"2024-08-16T13:06:00\", \"user\": \"Alice\", \"message\": \"We're on the right track.\", \"sentiment\": 0.8},\n",
    "    {\"time\": \"2024-08-16T13:06:06\", \"user\": \"Bob\", \"message\": \"This is a nightmare.\", \"sentiment\": -0.9},\n",
    "    {\"time\": \"2024-08-16T13:06:12\", \"user\": \"Charlie\", \"message\": \"Thanks for your support.\", \"sentiment\": 0.7},\n",
    "    {\"time\": \"2024-08-16T13:06:18\", \"user\": \"Dave\", \"message\": \"I'm at my wit's end.\", \"sentiment\": -0.9},\n",
    "    {\"time\": \"2024-08-16T13:06:24\", \"user\": \"Eve\", \"message\": \"This is turning out great!\", \"sentiment\": 0.9},\n",
    "    {\"time\": \"2024-08-16T13:06:30\", \"user\": \"Alice\", \"message\": \"Keep pushing forward!\", \"sentiment\": 0.8},\n",
    "    {\"time\": \"2024-08-16T13:06:36\", \"user\": \"Bob\", \"message\": \"I can't handle this anymore.\", \"sentiment\": -1},\n",
    "    {\"time\": \"2024-08-16T13:06:42\", \"user\": \"Charlie\", \"message\": \"Really appreciate the help.\", \"sentiment\": 0.7},\n",
    "    {\"time\": \"2024-08-16T13:06:48\", \"user\": \"Dave\", \"message\": \"This is just too much.\", \"sentiment\": -0.8},\n",
    "    {\"time\": \"2024-08-16T13:06:54\", \"user\": \"Eve\", \"message\": \"Fantastic progress so far!\", \"sentiment\": 1},\n",
    "    {\"time\": \"2024-08-16T13:07:00\", \"user\": \"Alice\", \"message\": \"We're making great strides.\", \"sentiment\": 0.9},\n",
    "    {\"time\": \"2024-08-16T13:07:06\", \"user\": \"Bob\", \"message\": \"This is a disaster.\", \"sentiment\": -0.9},\n",
    "    {\"time\": \"2024-08-16T13:07:12\", \"user\": \"Charlie\", \"message\": \"Thanks for the clarification.\", \"sentiment\": 0.6},\n",
    "    {\"time\": \"2024-08-16T13:07:18\", \"user\": \"Dave\", \"message\": \"I'm really struggling.\", \"sentiment\": -0.8},\n",
    "    {\"time\": \"2024-08-16T13:07:24\", \"user\": \"Eve\", \"message\": \"Great work, everyone!\", \"sentiment\": 1},\n",
    "    {\"time\": \"2024-08-16T13:07:30\", \"user\": \"Alice\", \"message\": \"Everything is going smoothly.\", \"sentiment\": 0.9},\n",
    "    {\"time\": \"2024-08-16T13:07:36\", \"user\": \"Bob\", \"message\": \"This is a huge mess.\", \"sentiment\": -0.8},\n",
    "    {\"time\": \"2024-08-16T13:07:42\", \"user\": \"Charlie\", \"message\": \"I appreciate the quick response.\", \"sentiment\": 0.6},\n",
    "    {\"time\": \"2024-08-16T13:07:48\", \"user\": \"Dave\", \"message\": \"This is really frustrating.\", \"sentiment\": -1},\n",
    "    {\"time\": \"2024-08-16T13:07:54\", \"user\": \"Eve\", \"message\": \"We're on the right track!\", \"sentiment\": 0.8},\n",
    "    {\"time\": \"2024-08-16T13:08:00\", \"user\": \"Alice\", \"message\": \"Keep up the good work!\", \"sentiment\": 0.8},\n",
    "    {\"time\": \"2024-08-16T13:08:06\", \"user\": \"Bob\", \"message\": \"I'm really upset about this.\", \"sentiment\": -0.9},\n",
    "    {\"time\": \"2024-08-16T13:08:12\", \"user\": \"Charlie\", \"message\": \"Thanks for the quick update.\", \"sentiment\": 0.6},\n",
    "    {\"time\": \"2024-08-16T13:08:18\", \"user\": \"Dave\", \"message\": \"This is getting out of hand.\", \"sentiment\": -1},\n",
    "    {\"time\": \"2024-08-16T13:08:24\", \"user\": \"Eve\", \"message\": \"Things are looking up!\", \"sentiment\": 0.9},\n",
    "    {\"time\": \"2024-08-16T13:08:30\", \"user\": \"Alice\", \"message\": \"I'm really happy with this.\", \"sentiment\": 0.8},\n",
    "    {\"time\": \"2024-08-16T13:08:36\", \"user\": \"Bob\", \"message\": \"This is just terrible.\", \"sentiment\": -0.9},\n",
    "    {\"time\": \"2024-08-16T13:08:42\", \"user\": \"Charlie\", \"message\": \"I appreciate your help.\", \"sentiment\": 0.7},\n",
    "    {\"time\": \"2024-08-16T13:08:48\", \"user\": \"Dave\", \"message\": \"This is making me really upset.\", \"sentiment\": -1},\n",
    "    {\"time\": \"2024-08-16T13:08:54\", \"user\": \"Eve\", \"message\": \"We're making great progress!\", \"sentiment\": 0.9},\n",
    "    {\"time\": \"2024-08-16T13:09:00\", \"user\": \"Alice\", \"message\": \"Everything's coming together.\", \"sentiment\": 0.8},\n",
    "    {\"time\": \"2024-08-16T13:09:06\", \"user\": \"Bob\", \"message\": \"I can't believe this is happening.\", \"sentiment\": -0.8},\n",
    "    {\"time\": \"2024-08-16T13:09:12\", \"user\": \"Charlie\", \"message\": \"Thanks for the advice.\", \"sentiment\": 0.6},\n",
    "    {\"time\": \"2024-08-16T13:09:18\", \"user\": \"Dave\", \"message\": \"I'm at a breaking point.\", \"sentiment\": -1},\n",
    "    {\"time\": \"2024-08-16T13:09:24\", \"user\": \"Eve\", \"message\": \"Fantastic work, everyone!\", \"sentiment\": 1},\n",
    "    {\"time\": \"2024-08-16T13:09:30\", \"user\": \"Alice\", \"message\": \"I'm thrilled with our progress.\", \"sentiment\": 0.9},\n",
    "    {\"time\": \"2024-08-16T13:09:36\", \"user\": \"Bob\", \"message\": \"This is a total disaster.\", \"sentiment\": -0.9},\n",
    "    {\"time\": \"2024-08-16T13:09:42\", \"user\": \"Charlie\", \"message\": \"Thanks for the quick clarification.\", \"sentiment\": 0.5},\n",
    "    {\"time\": \"2024-08-16T13:09:48\", \"user\": \"Dave\", \"message\": \"This is unbearable.\", \"sentiment\": -1},\n",
    "    {\"time\": \"2024-08-16T13:09:54\", \"user\": \"Eve\", \"message\": \"Everything is looking good!\", \"sentiment\": 0.8},\n",
    "    {\"time\": \"2024-08-16T13:10:00\", \"user\": \"Alice\", \"message\": \"We can do this!\", \"sentiment\": 0.9},\n",
    "    {\"time\": \"2024-08-16T13:10:06\", \"user\": \"Bob\", \"message\": \"This is a total mess.\", \"sentiment\": -0.9},\n",
    "    {\"time\": \"2024-08-16T13:10:12\", \"user\": \"Charlie\", \"message\": \"Thanks for the assistance.\", \"sentiment\": 0.7},\n",
    "    {\"time\": \"2024-08-16T13:10:18\", \"user\": \"Dave\", \"message\": \"I'm completely overwhelmed.\", \"sentiment\": -1},\n",
    "    {\"time\": \"2024-08-16T13:10:24\", \"user\": \"Eve\", \"message\": \"Fantastic job, team!\", \"sentiment\": 1},\n",
    "    {\"time\": \"2024-08-16T13:10:30\", \"user\": \"Alice\", \"message\": \"We're making great progress.\", \"sentiment\": 0.9},\n",
    "    {\"time\": \"2024-08-16T13:10:36\", \"user\": \"Bob\", \"message\": \"This is getting worse by the minute.\", \"sentiment\": -0.8},\n",
    "    {\"time\": \"2024-08-16T13:10:42\", \"user\": \"Charlie\", \"message\": \"I appreciate the help.\", \"sentiment\": 0.7},\n",
    "    {\"time\": \"2024-08-16T13:10:48\", \"user\": \"Dave\", \"message\": \"I'm really struggling with this.\", \"sentiment\": -0.9},\n",
    "    {\"time\": \"2024-08-16T13:10:54\", \"user\": \"Eve\", \"message\": \"Everything's going great!\", \"sentiment\": 1},\n",
    "    {\"time\": \"2024-08-16T13:11:00\", \"user\": \"Alice\", \"message\": \"We're on the right path.\", \"sentiment\": 0.8},\n",
    "    {\"time\": \"2024-08-16T13:11:06\", \"user\": \"Bob\", \"message\": \"This is beyond frustrating.\", \"sentiment\": -0.9},\n",
    "    {\"time\": \"2024-08-16T13:11:12\", \"user\": \"Charlie\", \"message\": \"Thanks for the update.\", \"sentiment\": 0.6},\n",
    "    {\"time\": \"2024-08-16T13:11:18\", \"user\": \"Dave\", \"message\": \"This is really tough.\", \"sentiment\": -0.8},\n",
    "    {\"time\": \"2024-08-16T13:11:24\", \"user\": \"Eve\", \"message\": \"You're all doing a great job!\", \"sentiment\": 1},\n",
    "    {\"time\": \"2024-08-16T13:11:30\", \"user\": \"Alice\", \"message\": \"Keep up the good work!\", \"sentiment\": 0.9},\n",
    "    {\"time\": \"2024-08-16T13:11:36\", \"user\": \"Bob\", \"message\": \"This is terrible.\", \"sentiment\": -0.9},\n",
    "    {\"time\": \"2024-08-16T13:11:42\", \"user\": \"Charlie\", \"message\": \"Thanks for your input.\", \"sentiment\": 0.7},\n",
    "    {\"time\": \"2024-08-16T13:11:48\", \"user\": \"Dave\", \"message\": \"I'm really struggling right now.\", \"sentiment\": -1},\n",
    "    {\"time\": \"2024-08-16T13:11:54\", \"user\": \"Eve\", \"message\": \"Things are looking great!\", \"sentiment\": 0.9},\n",
    "    {\"time\": \"2024-08-16T13:12:00\", \"user\": \"Alice\", \"message\": \"We're doing really well.\", \"sentiment\": 0.8},\n",
    "    {\"time\": \"2024-08-16T13:12:06\", \"user\": \"Bob\", \"message\": \"This is a complete disaster.\", \"sentiment\": -0.9},\n",
    "    {\"time\": \"2024-08-16T13:12:12\", \"user\": \"Charlie\", \"message\": \"I appreciate the feedback.\", \"sentiment\": 0.7},\n",
    "    {\"time\": \"2024-08-16T13:12:18\", \"user\": \"Dave\", \"message\": \"This is really challenging.\", \"sentiment\": -0.8},\n",
    "    {\"time\": \"2024-08-16T13:12:24\", \"user\": \"Eve\", \"message\": \"Excellent work, everyone!\", \"sentiment\": 1},\n",
    "    {\"time\": \"2024-08-16T13:12:30\", \"user\": \"Alice\", \"message\": \"Everything's falling into place.\", \"sentiment\": 0.9},\n",
    "    {\"time\": \"2024-08-16T13:12:36\", \"user\": \"Bob\", \"message\": \"This is going downhill fast.\", \"sentiment\": -0.8},\n",
    "    {\"time\": \"2024-08-16T13:12:42\", \"user\": \"Charlie\", \"message\": \"Thanks for your quick response.\", \"sentiment\": 0.6},\n",
    "    {\"time\": \"2024-08-16T13:12:48\", \"user\": \"Dave\", \"message\": \"This is so frustrating.\", \"sentiment\": -1},\n",
    "    {\"time\": \"2024-08-16T13:12:54\", \"user\": \"Eve\", \"message\": \"We're making amazing progress!\", \"sentiment\": 1},\n",
    "    {\"time\": \"2024-08-16T13:13:00\", \"user\": \"Alice\", \"message\": \"Let's keep this up!\", \"sentiment\": 0.8},\n",
    "    {\"time\": \"2024-08-16T13:13:06\", \"user\": \"Bob\", \"message\": \"This is a huge problem.\", \"sentiment\": -0.9},\n",
    "    {\"time\": \"2024-08-16T13:13:12\", \"user\": \"Charlie\", \"message\": \"Thanks for the quick follow-up.\", \"sentiment\": 0.7},\n",
    "    {\"time\": \"2024-08-16T13:13:18\", \"user\": \"Dave\", \"message\": \"I'm really upset about this.\", \"sentiment\": -0.9},\n",
    "    {\"time\": \"2024-08-16T13:13:24\", \"user\": \"Eve\", \"message\": \"Everything's going smoothly!\", \"sentiment\": 0.9},\n",
    "    {\"time\": \"2024-08-16T13:13:30\", \"user\": \"Alice\", \"message\": \"We're doing fantastic work.\", \"sentiment\": 0.8},\n",
    "    {\"time\": \"2024-08-16T13:13:36\", \"user\": \"Bob\", \"message\": \"This is completely unacceptable.\", \"sentiment\": -1},\n",
    "    {\"time\": \"2024-08-16T13:13:42\", \"user\": \"Charlie\", \"message\": \"I appreciate your insights.\", \"sentiment\": 0.6},\n",
    "    {\"time\": \"2024-08-16T13:13:48\", \"user\": \"Dave\", \"message\": \"This is really bothering me.\", \"sentiment\": -0.8},\n",
    "    {\"time\": \"2024-08-16T13:13:54\", \"user\": \"Eve\", \"message\": \"We're getting closer to our goal!\", \"sentiment\": 0.9},\n",
    "    {\"time\": \"2024-08-16T13:14:00\", \"user\": \"Alice\", \"message\": \"We're almost there!\", \"sentiment\": 0.8},\n",
    "    {\"time\": \"2024-08-16T13:14:06\", \"user\": \"Bob\", \"message\": \"This is just awful.\", \"sentiment\": -0.9},\n",
    "    {\"time\": \"2024-08-16T13:14:12\", \"user\": \"Charlie\", \"message\": \"Thanks for your guidance.\", \"sentiment\": 0.6},\n",
    "    {\"time\": \"2024-08-16T13:14:18\", \"user\": \"Dave\", \"message\": \"This is really tough to handle.\", \"sentiment\": -1},\n",
    "    {\"time\": \"2024-08-16T13:14:24\", \"user\": \"Eve\", \"message\": \"We're doing excellent work!\", \"sentiment\": 1},\n",
    "    {\"time\": \"2024-08-16T13:14:30\", \"user\": \"Alice\", \"message\": \"We're so close!\", \"sentiment\": 0.8},\n",
    "    {\"time\": \"2024-08-16T13:14:36\", \"user\": \"Bob\", \"message\": \"This is driving me crazy.\", \"sentiment\": -1},\n",
    "    {\"time\": \"2024-08-16T13:14:42\", \"user\": \"Charlie\", \"message\": \"I appreciate your advice.\", \"sentiment\": 0.7},\n",
    "    {\"time\": \"2024-08-16T13:14:48\", \"user\": \"Dave\", \"message\": \"I'm completely overwhelmed.\", \"sentiment\": -0.9},\n",
    "    {\"time\": \"2024-08-16T13:14:54\", \"user\": \"Eve\", \"message\": \"Fantastic progress, everyone!\", \"sentiment\": 1},\n",
    "    {\"time\": \"2024-08-16T13:15:00\", \"user\": \"Alice\", \"message\": \"We're doing an amazing job.\", \"sentiment\": 0.9},\n",
    "    {\"time\": \"2024-08-16T13:15:06\", \"user\": \"Bob\", \"message\": \"This is absolutely terrible.\", \"sentiment\": -1},\n",
    "    {\"time\": \"2024-08-16T13:15:12\", \"user\": \"Charlie\", \"message\": \"Thanks for the quick update.\", \"sentiment\": 0.6},\n",
    "    {\"time\": \"2024-08-16T13:15:18\", \"user\": \"Dave\", \"message\": \"This is too much to handle.\", \"sentiment\": -0.9},\n",
    "    {\"time\": \"2024-08-16T13:15:24\", \"user\": \"Eve\", \"message\": \"Everything's coming together nicely.\", \"sentiment\": 0.9},\n",
    "    {\"time\": \"2024-08-16T13:15:30\", \"user\": \"Alice\", \"message\": \"We're almost there, just a bit more!\", \"sentiment\": 0.8},\n",
    "    {\"time\": \"2024-08-16T13:15:36\", \"user\": \"Bob\", \"message\": \"This is beyond frustrating.\", \"sentiment\": -0.9},\n",
    "    {\"time\": \"2024-08-16T13:15:42\", \"user\": \"Charlie\", \"message\": \"I appreciate the quick response.\", \"sentiment\": 0.7},\n",
    "    {\"time\": \"2024-08-16T13:15:48\", \"user\": \"Dave\", \"message\": \"This is really stressing me out.\", \"sentiment\": -1},\n",
    "    {\"time\": \"2024-08-16T13:15:54\", \"user\": \"Eve\", \"message\": \"We're on track to finish strong!\", \"sentiment\": 0.9},\n",
    "    {\"time\": \"2024-08-16T13:16:00\", \"user\": \"Alice\", \"message\": \"Everything's going great!\", \"sentiment\": 0.8},\n",
    "    {\"time\": \"2024-08-16T13:16:06\", \"user\": \"Bob\", \"message\": \"This is a complete mess.\", \"sentiment\": -0.9},\n",
    "    {\"time\": \"2024-08-16T13:16:12\", \"user\": \"Charlie\", \"message\": \"Thanks for the feedback.\", \"sentiment\": 0.6},\n",
    "    {\"time\": \"2024-08-16T13:16:18\", \"user\": \"Dave\", \"message\": \"I'm at my breaking point.\", \"sentiment\": -1},\n",
    "    {\"time\": \"2024-08-16T13:16:24\", \"user\": \"Eve\", \"message\": \"Great work, everyone!\", \"sentiment\": 1},\n",
    "    {\"time\": \"2024-08-16T13:16:30\", \"user\": \"Alice\", \"message\": \"We're so close to the finish line!\", \"sentiment\": 0.9},\n",
    "    {\"time\": \"2024-08-16T13:16:36\", \"user\": \"Bob\", \"message\": \"This is really upsetting.\", \"sentiment\": -1},\n",
    "    {\"time\": \"2024-08-16T13:16:42\", \"user\": \"Charlie\", \"message\": \"Thanks for your help.\", \"sentiment\": 0.7},\n",
    "    {\"time\": \"2024-08-16T13:16:48\", \"user\": \"Dave\", \"message\": \"I'm really struggling with this.\", \"sentiment\": -0.9},\n",
    "    {\"time\": \"2024-08-16T13:16:54\", \"user\": \"Eve\", \"message\": \"We're almost done, keep it up!\", \"sentiment\": 1},\n",
    "    {\"time\": \"2024-08-16T13:17:00\", \"user\": \"Alice\", \"message\": \"We’re on the verge of success!\", \"sentiment\": 0.8},\n",
    "    {\"time\": \"2024-08-16T13:17:06\", \"user\": \"Bob\", \"message\": \"This is going horribly.\", \"sentiment\": -0.9},\n",
    "    {\"time\": \"2024-08-16T13:17:12\", \"user\": \"Charlie\", \"message\": \"I appreciate your quick assistance.\", \"sentiment\": 0.6},\n",
    "    {\"time\": \"2024-08-16T13:17:18\", \"user\": \"Dave\", \"message\": \"I can't take much more of this.\", \"sentiment\": -1},\n",
    "    {\"time\": \"2024-08-16T13:17:24\", \"user\": \"Eve\", \"message\": \"We're going to finish strong!\", \"sentiment\": 0.9},\n",
    "    {\"time\": \"2024-08-16T13:17:30\", \"user\": \"Alice\", \"message\": \"Keep pushing forward, we're almost there!\", \"sentiment\": 0.8},\n",
    "    {\"time\": \"2024-08-16T13:17:36\", \"user\": \"Bob\", \"message\": \"This is a total disaster.\", \"sentiment\": -1},\n",
    "    {\"time\": \"2024-08-16T13:17:42\", \"user\": \"Charlie\", \"message\": \"Thanks for the clarity.\", \"sentiment\": 0.7},\n",
    "    {\"time\": \"2024-08-16T13:17:48\", \"user\": \"Dave\", \"message\": \"I'm really frustrated.\", \"sentiment\": -0.9},\n",
    "    {\"time\": \"2024-08-16T13:17:54\", \"user\": \"Eve\", \"message\": \"We’re doing fantastic work.\", \"sentiment\": 1},\n",
    "    {\"time\": \"2024-08-16T13:18:00\", \"user\": \"Alice\", \"message\": \"We’re almost at the finish line.\", \"sentiment\": 0.9},\n",
    "    {\"time\": \"2024-08-16T13:18:06\", \"user\": \"Bob\", \"message\": \"This is really not working out.\", \"sentiment\": -1},\n",
    "    {\"time\": \"2024-08-16T13:18:12\", \"user\": \"Charlie\", \"message\": \"I appreciate the quick response.\", \"sentiment\": 0.7},\n",
    "    {\"time\": \"2024-08-16T13:18:18\", \"user\": \"Dave\", \"message\": \"This is just too much.\", \"sentiment\": -0.9},\n",
    "    {\"time\": \"2024-08-16T13:18:24\", \"user\": \"Eve\", \"message\": \"We’re almost there, everyone!\", \"sentiment\": 0.9},\n",
    "    {\"time\": \"2024-08-16T13:18:30\", \"user\": \"Alice\", \"message\": \"We’re so close to success.\", \"sentiment\": 0.8},\n",
    "    {\"time\": \"2024-08-16T13:18:36\", \"user\": \"Bob\", \"message\": \"This is a huge setback.\", \"sentiment\": -1},\n",
    "    {\"time\": \"2024-08-16T13:18:42\", \"user\": \"Charlie\", \"message\": \"Thanks for your insights.\", \"sentiment\": 0.6},\n",
    "    {\"time\": \"2024-08-16T13:18:48\", \"user\": \"Dave\", \"message\": \"I'm really unhappy with this.\", \"sentiment\": -1},\n",
    "    {\"time\": \"2024-08-16T13:18:54\", \"user\": \"Eve\", \"message\": \"We’re doing fantastic, let’s finish strong!\", \"sentiment\": 1},\n",
    "    {\"time\": \"2024-08-16T13:19:00\", \"user\": \"Alice\", \"message\": \"Just a little more effort, and we’ll be done!\", \"sentiment\": 0.9},\n",
    "    {\"time\": \"2024-08-16T13:19:06\", \"user\": \"Bob\", \"message\": \"This is really stressful.\", \"sentiment\": -0.9},\n",
    "    {\"time\": \"2024-08-16T13:19:12\", \"user\": \"Charlie\", \"message\": \"Thanks for the quick update.\", \"sentiment\": 0.6},\n",
    "    {\"time\": \"2024-08-16T13:19:18\", \"user\": \"Dave\", \"message\": \"This is really hard to manage.\", \"sentiment\": -0.9},\n",
    "    {\"time\": \"2024-08-16T13:19:24\", \"user\": \"Eve\", \"message\": \"We’re almost there, keep going!\", \"sentiment\": 0.9}\n",
    "]\n"
   ]
  },
  {
   "cell_type": "code",
   "execution_count": 2,
   "id": "d7db4e8c-ae57-493f-9d24-349567a105af",
   "metadata": {},
   "outputs": [
    {
     "data": {
      "text/plain": [
       "{'time': datetime.datetime(2024, 8, 16, 13, 0),\n",
       " 'user': 'Alice',\n",
       " 'message': 'Good morning!',\n",
       " 'sentiment': 1}"
      ]
     },
     "execution_count": 2,
     "metadata": {},
     "output_type": "execute_result"
    }
   ],
   "source": [
    "import datetime\n",
    "\n",
    "def date_processing(json_dict):\n",
    "    json_dict['time'] = datetime.datetime.strptime(json_dict['time'], \"%Y-%m-%dT%H:%M:%S\")\n",
    "    return json_dict\n",
    "\n",
    "message_dicts = [date_processing(d) for d in json_dicts]\n",
    "message_dicts[0]"
   ]
  },
  {
   "cell_type": "code",
   "execution_count": 3,
   "id": "2d182433-0b7b-4e29-bafc-f8a4421e804f",
   "metadata": {},
   "outputs": [
    {
     "data": {
      "text/plain": [
       "1"
      ]
     },
     "execution_count": 3,
     "metadata": {},
     "output_type": "execute_result"
    }
   ],
   "source": [
    "message_dicts[10]['time'].minute"
   ]
  },
  {
   "cell_type": "code",
   "execution_count": 4,
   "id": "e9a08656-160f-4adc-a468-9ffb2e6361bd",
   "metadata": {},
   "outputs": [
    {
     "data": {
      "text/plain": [
       "{'time': datetime.datetime(2024, 8, 16, 13, 0, 6),\n",
       " 'user': 'Bob',\n",
       " 'message': \"This isn't working as planned.\",\n",
       " 'sentiment': -0.6}"
      ]
     },
     "execution_count": 4,
     "metadata": {},
     "output_type": "execute_result"
    }
   ],
   "source": [
    "message_dicts[1]"
   ]
  },
  {
   "cell_type": "code",
   "execution_count": 5,
   "id": "1d734e58-c1d8-4282-ac0b-a671f6744ae6",
   "metadata": {},
   "outputs": [],
   "source": [
    "### Сгруппируем сентименты за каждые последние 5 минут"
   ]
  },
  {
   "cell_type": "code",
   "execution_count": 6,
   "id": "b6ffb521-46f8-4b3f-8e8c-d66303dd034b",
   "metadata": {},
   "outputs": [],
   "source": [
    "sentiment_lists = []\n",
    "left, right = 0, 0\n",
    "first, second = 0, 1\n",
    "\n",
    "while second < 6:\n",
    "    while right < len(message_dicts) and message_dicts[right]['time'].minute < second:\n",
    "        right += 1\n",
    "    sentiment_lists.append([d['sentiment'] for d in message_dicts[:right]])\n",
    "    second += 1\n",
    "\n",
    "while second < 21:\n",
    "    while right < len(message_dicts) and message_dicts[right]['time'].minute < second:\n",
    "        right += 1\n",
    "    while left <= right and message_dicts[left]['time'].minute <= first:\n",
    "        left += 1\n",
    "    sentiment_lists.append([d['sentiment'] for d in message_dicts[left:right]])\n",
    "    first += 1\n",
    "    second += 1 "
   ]
  },
  {
   "cell_type": "code",
   "execution_count": 7,
   "id": "521b72d7-f6d0-4cbd-a04e-b49942565dd2",
   "metadata": {},
   "outputs": [
    {
     "name": "stdout",
     "output_type": "stream",
     "text": [
      "[1, -0.6, 0.5, -1, 1, 0.8, -0.7, 0.6, -0.9, 0.7]\n",
      "\n",
      "[1, -0.6, 0.5, -1, 1, 0.8, -0.7, 0.6, -0.9, 0.7, 0.9, -0.8, 0.5, -0.9, 1, 0.8, -0.7, 0.7, -1, 0.9]\n",
      "\n",
      "[1, -0.6, 0.5, -1, 1, 0.8, -0.7, 0.6, -0.9, 0.7, 0.9, -0.8, 0.5, -0.9, 1, 0.8, -0.7, 0.7, -1, 0.9, 0.8, -0.8, 0.6, -0.9, 1, 0.7, -0.7, 0.6, -1, 0.9]\n",
      "\n",
      "[1, -0.6, 0.5, -1, 1, 0.8, -0.7, 0.6, -0.9, 0.7, 0.9, -0.8, 0.5, -0.9, 1, 0.8, -0.7, 0.7, -1, 0.9, 0.8, -0.8, 0.6, -0.9, 1, 0.7, -0.7, 0.6, -1, 0.9, 1, -0.8, 0.6, -1, 0.8, 0.8, -0.9, 0.5, -0.9, 0.7]\n",
      "\n",
      "[1, -0.6, 0.5, -1, 1, 0.8, -0.7, 0.6, -0.9, 0.7, 0.9, -0.8, 0.5, -0.9, 1, 0.8, -0.7, 0.7, -1, 0.9, 0.8, -0.8, 0.6, -0.9, 1, 0.7, -0.7, 0.6, -1, 0.9, 1, -0.8, 0.6, -1, 0.8, 0.8, -0.9, 0.5, -0.9, 0.7, 0.8, -1, 0.6, -0.8, 0.9, 1, -0.8, 0.5, -1, 0.8]\n",
      "\n",
      "[0.9, -0.8, 0.5, -0.9, 1, 0.8, -0.7, 0.7, -1, 0.9, 0.8, -0.8, 0.6, -0.9, 1, 0.7, -0.7, 0.6, -1, 0.9, 1, -0.8, 0.6, -1, 0.8, 0.8, -0.9, 0.5, -0.9, 0.7, 0.8, -1, 0.6, -0.8, 0.9, 1, -0.8, 0.5, -1, 0.8, 0.9, -0.8, 0.5, -0.9, 1, 0.8, -0.8, 0.6, -1, 1]\n",
      "\n",
      "[0.8, -0.8, 0.6, -0.9, 1, 0.7, -0.7, 0.6, -1, 0.9, 1, -0.8, 0.6, -1, 0.8, 0.8, -0.9, 0.5, -0.9, 0.7, 0.8, -1, 0.6, -0.8, 0.9, 1, -0.8, 0.5, -1, 0.8, 0.9, -0.8, 0.5, -0.9, 1, 0.8, -0.8, 0.6, -1, 1, 0.8, -0.9, 0.7, -0.9, 0.9, 0.8, -1, 0.7, -0.8, 1]\n",
      "\n",
      "[1, -0.8, 0.6, -1, 0.8, 0.8, -0.9, 0.5, -0.9, 0.7, 0.8, -1, 0.6, -0.8, 0.9, 1, -0.8, 0.5, -1, 0.8, 0.9, -0.8, 0.5, -0.9, 1, 0.8, -0.8, 0.6, -1, 1, 0.8, -0.9, 0.7, -0.9, 0.9, 0.8, -1, 0.7, -0.8, 1, 0.9, -0.9, 0.6, -0.8, 1, 0.9, -0.8, 0.6, -1, 0.8]\n",
      "\n",
      "[0.8, -1, 0.6, -0.8, 0.9, 1, -0.8, 0.5, -1, 0.8, 0.9, -0.8, 0.5, -0.9, 1, 0.8, -0.8, 0.6, -1, 1, 0.8, -0.9, 0.7, -0.9, 0.9, 0.8, -1, 0.7, -0.8, 1, 0.9, -0.9, 0.6, -0.8, 1, 0.9, -0.8, 0.6, -1, 0.8, 0.8, -0.9, 0.6, -1, 0.9, 0.8, -0.9, 0.7, -1, 0.9]\n",
      "\n",
      "[0.9, -0.8, 0.5, -0.9, 1, 0.8, -0.8, 0.6, -1, 1, 0.8, -0.9, 0.7, -0.9, 0.9, 0.8, -1, 0.7, -0.8, 1, 0.9, -0.9, 0.6, -0.8, 1, 0.9, -0.8, 0.6, -1, 0.8, 0.8, -0.9, 0.6, -1, 0.9, 0.8, -0.9, 0.7, -1, 0.9, 0.8, -0.8, 0.6, -1, 1, 0.9, -0.9, 0.5, -1, 0.8]\n",
      "\n",
      "[0.8, -0.9, 0.7, -0.9, 0.9, 0.8, -1, 0.7, -0.8, 1, 0.9, -0.9, 0.6, -0.8, 1, 0.9, -0.8, 0.6, -1, 0.8, 0.8, -0.9, 0.6, -1, 0.9, 0.8, -0.9, 0.7, -1, 0.9, 0.8, -0.8, 0.6, -1, 1, 0.9, -0.9, 0.5, -1, 0.8, 0.9, -0.9, 0.7, -1, 1, 0.9, -0.8, 0.7, -0.9, 1]\n",
      "\n",
      "[0.9, -0.9, 0.6, -0.8, 1, 0.9, -0.8, 0.6, -1, 0.8, 0.8, -0.9, 0.6, -1, 0.9, 0.8, -0.9, 0.7, -1, 0.9, 0.8, -0.8, 0.6, -1, 1, 0.9, -0.9, 0.5, -1, 0.8, 0.9, -0.9, 0.7, -1, 1, 0.9, -0.8, 0.7, -0.9, 1, 0.8, -0.9, 0.6, -0.8, 1, 0.9, -0.9, 0.7, -1, 0.9]\n",
      "\n",
      "[0.8, -0.9, 0.6, -1, 0.9, 0.8, -0.9, 0.7, -1, 0.9, 0.8, -0.8, 0.6, -1, 1, 0.9, -0.9, 0.5, -1, 0.8, 0.9, -0.9, 0.7, -1, 1, 0.9, -0.8, 0.7, -0.9, 1, 0.8, -0.9, 0.6, -0.8, 1, 0.9, -0.9, 0.7, -1, 0.9, 0.8, -0.9, 0.7, -0.8, 1, 0.9, -0.8, 0.6, -1, 1]\n",
      "\n",
      "[0.8, -0.8, 0.6, -1, 1, 0.9, -0.9, 0.5, -1, 0.8, 0.9, -0.9, 0.7, -1, 1, 0.9, -0.8, 0.7, -0.9, 1, 0.8, -0.9, 0.6, -0.8, 1, 0.9, -0.9, 0.7, -1, 0.9, 0.8, -0.9, 0.7, -0.8, 1, 0.9, -0.8, 0.6, -1, 1, 0.8, -0.9, 0.7, -0.9, 0.9, 0.8, -1, 0.6, -0.8, 0.9]\n",
      "\n",
      "[0.9, -0.9, 0.7, -1, 1, 0.9, -0.8, 0.7, -0.9, 1, 0.8, -0.9, 0.6, -0.8, 1, 0.9, -0.9, 0.7, -1, 0.9, 0.8, -0.9, 0.7, -0.8, 1, 0.9, -0.8, 0.6, -1, 1, 0.8, -0.9, 0.7, -0.9, 0.9, 0.8, -1, 0.6, -0.8, 0.9, 0.8, -0.9, 0.6, -1, 1, 0.8, -1, 0.7, -0.9, 1]\n",
      "\n",
      "[0.8, -0.9, 0.6, -0.8, 1, 0.9, -0.9, 0.7, -1, 0.9, 0.8, -0.9, 0.7, -0.8, 1, 0.9, -0.8, 0.6, -1, 1, 0.8, -0.9, 0.7, -0.9, 0.9, 0.8, -1, 0.6, -0.8, 0.9, 0.8, -0.9, 0.6, -1, 1, 0.8, -1, 0.7, -0.9, 1, 0.9, -1, 0.6, -0.9, 0.9, 0.8, -0.9, 0.7, -1, 0.9]\n",
      "\n",
      "[0.8, -0.9, 0.7, -0.8, 1, 0.9, -0.8, 0.6, -1, 1, 0.8, -0.9, 0.7, -0.9, 0.9, 0.8, -1, 0.6, -0.8, 0.9, 0.8, -0.9, 0.6, -1, 1, 0.8, -1, 0.7, -0.9, 1, 0.9, -1, 0.6, -0.9, 0.9, 0.8, -0.9, 0.7, -1, 0.9, 0.8, -0.9, 0.6, -1, 1, 0.9, -1, 0.7, -0.9, 1]\n",
      "\n",
      "[0.8, -0.9, 0.7, -0.9, 0.9, 0.8, -1, 0.6, -0.8, 0.9, 0.8, -0.9, 0.6, -1, 1, 0.8, -1, 0.7, -0.9, 1, 0.9, -1, 0.6, -0.9, 0.9, 0.8, -0.9, 0.7, -1, 0.9, 0.8, -0.9, 0.6, -1, 1, 0.9, -1, 0.7, -0.9, 1, 0.8, -0.9, 0.6, -1, 0.9, 0.8, -1, 0.7, -0.9, 1]\n",
      "\n",
      "[0.8, -0.9, 0.6, -1, 1, 0.8, -1, 0.7, -0.9, 1, 0.9, -1, 0.6, -0.9, 0.9, 0.8, -0.9, 0.7, -1, 0.9, 0.8, -0.9, 0.6, -1, 1, 0.9, -1, 0.7, -0.9, 1, 0.8, -0.9, 0.6, -1, 0.9, 0.8, -1, 0.7, -0.9, 1, 0.9, -1, 0.7, -0.9, 0.9, 0.8, -1, 0.6, -1, 1]\n",
      "\n",
      "[0.9, -1, 0.6, -0.9, 0.9, 0.8, -0.9, 0.7, -1, 0.9, 0.8, -0.9, 0.6, -1, 1, 0.9, -1, 0.7, -0.9, 1, 0.8, -0.9, 0.6, -1, 0.9, 0.8, -1, 0.7, -0.9, 1, 0.9, -1, 0.7, -0.9, 0.9, 0.8, -1, 0.6, -1, 1, 0.9, -0.9, 0.6, -0.9, 0.9]\n"
     ]
    }
   ],
   "source": [
    "print(*sentiment_lists, sep='\\n\\n')"
   ]
  },
  {
   "cell_type": "code",
   "execution_count": 8,
   "id": "c22df3ff-87cb-4377-85b0-174ea9646c5e",
   "metadata": {},
   "outputs": [],
   "source": [
    "### Так как у нас -1 - токсик, а 1 - положительный, то чтобы учитывать в большей степени токсичные сообщения, \n",
    "### будем возводить положительное число > 1 в степень (например 2), прямо пропорциональную токсичности (например в степень (1 - s),\n",
    "### где s - величина позитивности). \n",
    "\n",
    "### Также с большей весом учитываем последние сообщения (например разделяя на log2(n - i + 1),\n",
    "### где n - количество учитываемых сообщений, i - индекс сообщения, 1 нужна чтоб избежать деления на 0)."
   ]
  },
  {
   "cell_type": "markdown",
   "id": "22ee4582-12e2-4d62-921c-b729a2ce451f",
   "metadata": {},
   "source": [
    "$$s= {\\frac{1}{N} \\sum_{i=1}^N \\frac {2^{1-sens_i} - 1} {log_{2}(N - i)} }$$"
   ]
  },
  {
   "cell_type": "code",
   "execution_count": 9,
   "id": "a57063fd-0151-467e-b283-2a87587f1b2a",
   "metadata": {},
   "outputs": [
    {
     "data": {
      "text/plain": [
       "[0.4882993937885905,\n",
       " 0.38510619984159483,\n",
       " 0.33988063476443836,\n",
       " 0.31882678398944303,\n",
       " 0.29872060016134405,\n",
       " 0.2976903324434394,\n",
       " 0.2964459154032537,\n",
       " 0.30015773557351266,\n",
       " 0.3027683739358064,\n",
       " 0.3059135397530755,\n",
       " 0.29893122850970444,\n",
       " 0.3014800286426227,\n",
       " 0.2987251254275989,\n",
       " 0.29683052317034,\n",
       " 0.298459480407242,\n",
       " 0.3042755313349168,\n",
       " 0.30389645125509185,\n",
       " 0.3076184953804453,\n",
       " 0.31241984356789243,\n",
       " 0.31963616530396205]"
      ]
     },
     "execution_count": 9,
     "metadata": {},
     "output_type": "execute_result"
    }
   ],
   "source": [
    "from math import log2\n",
    "\n",
    "metric = []\n",
    "for sent_list in sentiment_lists:\n",
    "    n = len(sent_list)\n",
    "    total = 0\n",
    "    for i in range(n):\n",
    "        total += (2 ** (1 - sent_list[i]) - 1) / log2(n - i + 1)\n",
    "    metric.append(total / n)       \n",
    "metric"
   ]
  },
  {
   "cell_type": "code",
   "execution_count": 10,
   "id": "ae6551b2-e064-437a-8ab6-f19b75bddbdb",
   "metadata": {},
   "outputs": [
    {
     "data": {
      "text/plain": [
       "20"
      ]
     },
     "execution_count": 10,
     "metadata": {},
     "output_type": "execute_result"
    }
   ],
   "source": [
    "len(metric)"
   ]
  },
  {
   "cell_type": "code",
   "execution_count": 11,
   "id": "7c55700f-3f5b-4454-9614-c7e8fa54967f",
   "metadata": {},
   "outputs": [
    {
     "data": {
      "text/plain": [
       "[0, 1, 2, 3, 4, 5, 6, 7, 8, 9, 10, 11, 12, 13, 14, 15, 16, 17, 18, 19]"
      ]
     },
     "execution_count": 11,
     "metadata": {},
     "output_type": "execute_result"
    }
   ],
   "source": [
    "minutes = list(range(20))\n",
    "minutes"
   ]
  },
  {
   "cell_type": "code",
   "execution_count": 12,
   "id": "9c96092b-879b-4e2c-85f6-cc9a52da690d",
   "metadata": {},
   "outputs": [],
   "source": [
    "import matplotlib.pyplot as plt\n",
    "from seaborn import lineplot"
   ]
  },
  {
   "cell_type": "code",
   "execution_count": 13,
   "id": "38aa6b55-a475-429f-ab5f-264171b4c45e",
   "metadata": {},
   "outputs": [
    {
     "data": {
      "text/plain": [
       "Text(0, 0.5, 'General Vibe')"
      ]
     },
     "execution_count": 13,
     "metadata": {},
     "output_type": "execute_result"
    },
    {
     "data": {
      "image/png": "[encoded data removed]",
      "text/plain": [
       "<Figure size 640x480 with 1 Axes>"
      ]
     },
     "metadata": {},
     "output_type": "display_data"
    }
   ],
   "source": [
    "lineplot(x=minutes, y=metric)\n",
    "plt.xlabel('Minutes', size=15)\n",
    "plt.ylabel('General Vibe', size=15)"
   ]
  },
  {
   "cell_type": "code",
   "execution_count": null,
   "id": "29074450-5b80-4980-ba72-394a1abb5020",
   "metadata": {},
   "outputs": [],
   "source": []
  }
 ],
 "metadata": {
  "kernelspec": {
   "display_name": "Python 3 (ipykernel)",
   "language": "python",
   "name": "python3"
  },
  "language_info": {
   "codemirror_mode": {
    "name": "ipython",
    "version": 3
   },
   "file_extension": ".py",
   "mimetype": "text/x-python",
   "name": "python",
   "nbconvert_exporter": "python",
   "pygments_lexer": "ipython3",
   "version": "3.10.12"
  }
 },
 "nbformat": 4,
 "nbformat_minor": 5
}
